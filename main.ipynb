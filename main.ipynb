{
 "cells": [
  {
   "cell_type": "code",
   "execution_count": 19,
   "id": "7baa843c",
   "metadata": {},
   "outputs": [],
   "source": [
    "import cv2\n",
    "import numpy as np"
   ]
  },
  {
   "cell_type": "markdown",
   "id": "01d311d8",
   "metadata": {},
   "source": [
    "colorization_release_v2.caffemodel is not added bcs of sixe you can download directly from \n",
    "\n",
    "https://github.com/dath1s/colorizor/blob/main/colorization_release_v2.caffemodel"
   ]
  },
  {
   "cell_type": "code",
   "execution_count": null,
   "id": "0e4e62be",
   "metadata": {},
   "outputs": [],
   "source": [
    "prototxt_path=r'models\\colorization_deploy_v2.prototxt'\n",
    "model_path=r'models\\colorization_release_v2.caffemodel'\n",
    "kernel_path=r'models\\pts_in_hull.npy'\n",
    "\n",
    "# image_path=r'images\\man.webp'\n",
    "image_path=r'images\\black_n_white_lion.jpg'\n"
   ]
  },
  {
   "cell_type": "code",
   "execution_count": 21,
   "id": "c45d12c6",
   "metadata": {},
   "outputs": [],
   "source": [
    "# loading pre-trained model\n",
    "net=cv2.dnn.readNetFromCaffe(prototxt_path,model_path)\n"
   ]
  },
  {
   "cell_type": "code",
   "execution_count": null,
   "id": "de6cce92",
   "metadata": {},
   "outputs": [],
   "source": [
    "points= np.load(kernel_path)\n",
    "# reshaping 1by1 kernel using cnn"
   ]
  },
  {
   "cell_type": "code",
   "execution_count": 23,
   "id": "f9f47f5b",
   "metadata": {},
   "outputs": [],
   "source": [
    "# its opencv documentation so no proper explaination]\n",
    "points=points.transpose().reshape(2,313,1,1)\n",
    "net.getLayer(net.getLayerId(\"class8_ab\")).blobs = [points.astype(np.float32)]\n",
    "\n",
    "# using LAB colour scheme ie Lightness alpha+ belta+\n",
    "\n",
    "net.getLayer(net.getLayerId(\"conv8_313_rh\")).blobs = [np.full([1,313],2.606,dtype=\"float32\")]\n"
   ]
  },
  {
   "cell_type": "code",
   "execution_count": 24,
   "id": "e7b84e6d",
   "metadata": {},
   "outputs": [],
   "source": [
    "bw_image=cv2.imread(image_path)\n",
    "normalized=bw_image.astype('float32')/255.0\n",
    "lab=cv2.cvtColor(normalized,cv2.COLOR_BGR2LAB)\n"
   ]
  },
  {
   "cell_type": "code",
   "execution_count": 25,
   "id": "10e75aae",
   "metadata": {},
   "outputs": [],
   "source": [
    "resized=cv2.resize(lab,(224,224))\n",
    "L = cv2.split(resized)[0]\n",
    "L -= 50 # replicate to 3 channels\n",
    "net.setInput(cv2.dnn.blobFromImage(L))\n",
    "\n",
    "\n",
    "\n",
    "\n"
   ]
  },
  {
   "cell_type": "code",
   "execution_count": 26,
   "id": "c4ce9838",
   "metadata": {},
   "outputs": [],
   "source": [
    "\n",
    "ab=net.forward()[0,:,:,:].transpose((1,2,0))\n",
    "ab=cv2.resize(ab,(bw_image.shape[1],bw_image.shape[0]))\n",
    "L=cv2.split(lab)[0]"
   ]
  },
  {
   "cell_type": "code",
   "execution_count": 27,
   "id": "d98fec47",
   "metadata": {},
   "outputs": [],
   "source": [
    "colorized=np.concatenate((L[:,:,np.newaxis],ab),axis=2)\n",
    "colorized=cv2.cvtColor(colorized,cv2.COLOR_LAB2BGR)\n",
    "colorized=(255.0*colorized).astype(\"uint8\")\n",
    "\n",
    "cv2.imshow(\"BW Image\",bw_image)\n",
    "cv2.imshow(\"Colorized\",colorized)\n",
    "cv2.waitKey(0)\n",
    "cv2.destroyAllWindows()"
   ]
  }
 ],
 "metadata": {
  "kernelspec": {
   "display_name": "Python 3",
   "language": "python",
   "name": "python3"
  },
  "language_info": {
   "codemirror_mode": {
    "name": "ipython",
    "version": 3
   },
   "file_extension": ".py",
   "mimetype": "text/x-python",
   "name": "python",
   "nbconvert_exporter": "python",
   "pygments_lexer": "ipython3",
   "version": "3.12.4"
  }
 },
 "nbformat": 4,
 "nbformat_minor": 5
}
